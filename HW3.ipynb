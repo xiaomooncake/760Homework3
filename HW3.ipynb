{
 "cells": [
  {
   "cell_type": "markdown",
   "id": "2d130de0",
   "metadata": {},
   "source": [
    "# HOMEWORK 3"
   ]
  },
  {
   "cell_type": "markdown",
   "id": "93706975",
   "metadata": {},
   "source": [
    "## 2 Programming"
   ]
  },
  {
   "cell_type": "code",
   "execution_count": 1,
   "id": "6ebeaa9d",
   "metadata": {},
   "outputs": [],
   "source": [
    "import pandas as pd\n",
    "import numpy as np\n",
    "from sklearn.neural_network import MLPClassifier\n",
    "import matplotlib.pyplot as plt\n",
    "from sklearn.metrics import accuracy_score\n",
    "from sklearn.metrics import precision_score\n",
    "from sklearn.metrics import recall_score\n",
    "from sklearn.neighbors import KNeighborsClassifier\n",
    "from sklearn.metrics import roc_curve, auc, roc_auc_score\n",
    "import warnings\n",
    "\n",
    "warnings.filterwarnings(\"ignore\")"
   ]
  },
  {
   "cell_type": "markdown",
   "id": "029b9a6d",
   "metadata": {},
   "source": [
    "### 1."
   ]
  },
  {
   "cell_type": "code",
   "execution_count": 2,
   "id": "ecafc7e9",
   "metadata": {},
   "outputs": [],
   "source": [
    "lines = open('D2z.txt').read().strip('\\n').split('\\n')\n",
    "trainX =np.array([[float(line.split()[0]), float(line.split()[1])] for line in lines])\n",
    "trainY = np.array([int(line.split()[2]) for line in lines])\n",
    "\n",
    "nn = MLPClassifier(hidden_layer_sizes=(200,100),alpha=0.01,max_iter=300)\n",
    "nn.fit(trainX, trainY)\n",
    "\n",
    "testX = np.array([[x, y] for y in np.linspace(-2, 2, 41) for x in np.linspace(-2, 2, 41)])\n",
    "prediction = nn.predict(testX)"
   ]
  },
  {
   "cell_type": "code",
   "execution_count": 3,
   "id": "2536ec07",
   "metadata": {},
   "outputs": [
    {
     "data": {
      "text/plain": [
       "<matplotlib.collections.PathCollection at 0x14771c220>"
      ]
     },
     "execution_count": 3,
     "metadata": {},
     "output_type": "execute_result"
    },
    {
     "data": {
      "image/png": "[encoded data removed]",
      "text/plain": [
       "<Figure size 576x432 with 1 Axes>"
      ]
     },
     "metadata": {
      "needs_background": "light"
     },
     "output_type": "display_data"
    }
   ],
   "source": [
    "plt.figure(figsize=(8, 6))\n",
    "plt.scatter(trainX[trainY == 0][:, 0], trainX[trainY == 0][:, 1], marker = '*', \\\n",
    "            color = 'black', linewidths= 0.7)\n",
    "plt.scatter(trainX[trainY == 1][:, 0], trainX[trainY == 1][:, 1], marker = '+', \\\n",
    "            color = 'black', linewidths= 0.7)\n",
    "\n",
    "plt.scatter(testX[prediction == 0][:, 0], testX[prediction == 0][:, 1], marker = 'o', \\\n",
    "            color = 'b', s= 0.2)\n",
    "plt.scatter(testX[prediction == 1][:, 0], testX[prediction == 1][:, 1], marker = 'o', \\\n",
    "            color = 'r', s= 0.2)"
   ]
  },
  {
   "cell_type": "markdown",
   "id": "cc2ff057",
   "metadata": {},
   "source": [
    "### 2."
   ]
  },
  {
   "cell_type": "code",
   "execution_count": 4,
   "id": "86125813",
   "metadata": {},
   "outputs": [],
   "source": [
    "df_email = pd.read_csv(\"emails.csv\", index_col = 0)\n",
    "\n",
    "nn = MLPClassifier(hidden_layer_sizes=(10,5),alpha=0.01, max_iter=300)\n",
    "metrics = []\n",
    "for i in range(5):\n",
    "    train_index = list(range(i * 1000)) + list(range(i * 1000 + 1000, 5000))\n",
    "    test_index = list(range(i * 1000, i * 1000 + 1000))\n",
    "    train_X, train_y = df_email.iloc[train_index, :-1], df_email.iloc[train_index, -1]\n",
    "    test_X, test_y = df_email.iloc[test_index, :-1], df_email.iloc[test_index, -1]\n",
    "    nn.fit(train_X, train_y)\n",
    "    predictions = nn.predict(test_X)\n",
    "    accuracy = accuracy_score(test_y, predictions)\n",
    "    precision = precision_score(test_y, predictions)\n",
    "    recall = recall_score(test_y, predictions)\n",
    "    metrics.append([accuracy, precision, recall])\n"
   ]
  },
  {
   "cell_type": "code",
   "execution_count": 5,
   "id": "f8385697",
   "metadata": {},
   "outputs": [
    {
     "name": "stdout",
     "output_type": "stream",
     "text": [
      "        accuracy  precision    recall\n",
      "Fold 1     0.973   0.921569  0.989474\n",
      "Fold 2     0.975   0.940559  0.971119\n",
      "Fold 3     0.975   0.938983  0.975352\n",
      "Fold 4     0.974   0.943709  0.969388\n",
      "Fold 5     0.954   0.896341  0.960784\n"
     ]
    },
    {
     "data": {
      "image/png": "[encoded data removed]",
      "text/plain": [
       "<Figure size 432x288 with 1 Axes>"
      ]
     },
     "metadata": {
      "needs_background": "light"
     },
     "output_type": "display_data"
    }
   ],
   "source": [
    "df_metrics = pd.DataFrame(metrics, index = ['Fold ' + str(i + 1) for i in range(5)])\n",
    "df_metrics.columns = ['accuracy', 'precision', 'recall']\n",
    "df_metrics.plot(kind = 'bar', ylim = (0.9, 1))\n",
    "print(df_metrics)"
   ]
  },
  {
   "cell_type": "markdown",
   "id": "5c154a0d",
   "metadata": {},
   "source": [
    "### 3."
   ]
  },
  {
   "cell_type": "code",
   "execution_count": 6,
   "id": "15c140b0",
   "metadata": {},
   "outputs": [],
   "source": [
    "def logit_gradient(train_X, train_y, beta):\n",
    "    train_X = np.column_stack((train_X.values, np.ones(train_X.shape[0])))\n",
    "    z = train_X @ beta.reshape(-1, 1)\n",
    "    f = 1 / (1 + np.exp(-z))\n",
    "    g = (f.reshape(-1) - train_y.values).reshape(-1, 1) * train_X\n",
    "    g = g.mean(axis = 0)\n",
    "    return g\n",
    "\n",
    "def logistc_regression(train_X, train_y, lr=0.0001, max_iter = 100):\n",
    "    beta = np.zeros(train_X.shape[1] + 1)\n",
    "    for _ in range(max_iter):\n",
    "        gradient = logit_gradient(train_X, train_y, beta)\n",
    "        beta = beta - lr * gradient\n",
    "    return beta\n",
    "\n",
    "def logit_predict(test_X, beta):\n",
    "    test_X = np.column_stack((test_X.values, np.ones(test_X.shape[0])))\n",
    "    z = test_X @ beta.reshape(-1, 1)\n",
    "    f = 1 / (1 + np.exp(-z))\n",
    "    prediction = (f >= 0.5).astype(int)\n",
    "    return prediction, f"
   ]
  },
  {
   "cell_type": "code",
   "execution_count": 7,
   "id": "5de09248",
   "metadata": {},
   "outputs": [],
   "source": [
    "lrs = [0.00001, 0.0001, 0.001, 0.001, 0.01, 0.1]\n",
    "\n",
    "lr_metrics = []\n",
    "for lr in lrs:\n",
    "    metrics = []\n",
    "    for i in range(5):\n",
    "        train_index = list(range(i * 1000)) + list(range(i * 1000 + 1000, 5000))\n",
    "        test_index = list(range(i * 1000, i * 1000 + 1000))\n",
    "        train_X, train_y = df_email.iloc[train_index, :-1], df_email.iloc[train_index, -1]\n",
    "        test_X, test_y = df_email.iloc[test_index, :-1], df_email.iloc[test_index, -1]\n",
    "        beta = logistc_regression(train_X, train_y, lr = lr)\n",
    "        predictions, _ = logit_predict(test_X, beta)\n",
    "        accuracy = accuracy_score(test_y, predictions)\n",
    "        precision = precision_score(test_y, predictions)\n",
    "        recall = recall_score(test_y, predictions)\n",
    "        metrics.append([accuracy, precision, recall])\n",
    "    metrics.append(list(np.mean(metrics, axis = 0)))\n",
    "    df_metrics = pd.DataFrame(metrics, index = ['Fold ' + str(i + 1) for i in range(5)] + ['Average'])\n",
    "    df_metrics.columns = ['accuracy', 'precision', 'recall']\n",
    "    lr_metrics.append(df_metrics)"
   ]
  },
  {
   "cell_type": "code",
   "execution_count": 8,
   "id": "cb8aa95c",
   "metadata": {},
   "outputs": [
    {
     "name": "stdout",
     "output_type": "stream",
     "text": [
      "Learning rate: 1e-05\n",
      "         accuracy  precision    recall\n",
      "Fold 1      0.717   0.625000  0.017544\n",
      "Fold 2      0.730   0.888889  0.028881\n",
      "Fold 3      0.729   0.933333  0.049296\n",
      "Fold 4      0.714   1.000000  0.027211\n",
      "Fold 5      0.700   0.750000  0.029412\n",
      "Average     0.718   0.839444  0.030469\n",
      "\n",
      "Learning rate: 0.0001\n",
      "         accuracy  precision    recall\n",
      "Fold 1     0.8160   0.767196  0.508772\n",
      "Fold 2     0.7990   0.737500  0.425993\n",
      "Fold 3     0.8150   0.841379  0.429577\n",
      "Fold 4     0.7910   0.754491  0.428571\n",
      "Fold 5     0.7260   0.585106  0.359477\n",
      "Average    0.7894   0.737134  0.430478\n",
      "\n",
      "Learning rate: 0.001\n",
      "         accuracy  precision    recall\n",
      "Fold 1     0.7510   0.821429  0.161404\n",
      "Fold 2     0.6570   0.441901  0.906137\n",
      "Fold 3     0.7370   0.838710  0.091549\n",
      "Fold 4     0.7280   0.823529  0.095238\n",
      "Fold 5     0.7080   0.594595  0.143791\n",
      "Average    0.7162   0.704033  0.279624\n",
      "\n",
      "Learning rate: 0.001\n",
      "         accuracy  precision    recall\n",
      "Fold 1     0.7510   0.821429  0.161404\n",
      "Fold 2     0.6570   0.441901  0.906137\n",
      "Fold 3     0.7370   0.838710  0.091549\n",
      "Fold 4     0.7280   0.823529  0.095238\n",
      "Fold 5     0.7080   0.594595  0.143791\n",
      "Average    0.7162   0.704033  0.279624\n",
      "\n",
      "Learning rate: 0.01\n",
      "         accuracy  precision    recall\n",
      "Fold 1     0.5770   0.395455  0.915789\n",
      "Fold 2     0.7330   0.916667  0.039711\n",
      "Fold 3     0.7510   0.872340  0.144366\n",
      "Fold 4     0.7150   1.000000  0.030612\n",
      "Fold 5     0.5110   0.379447  0.941176\n",
      "Average    0.6574   0.712782  0.414331\n",
      "\n",
      "Learning rate: 0.1\n",
      "         accuracy  precision    recall\n",
      "Fold 1     0.5540   0.382482  0.919298\n",
      "Fold 2     0.7510   0.780000  0.140794\n",
      "Fold 3     0.7460   0.840909  0.130282\n",
      "Fold 4     0.7150   1.000000  0.030612\n",
      "Fold 5     0.7010   0.612903  0.062092\n",
      "Average    0.6934   0.723259  0.256616\n",
      "\n"
     ]
    }
   ],
   "source": [
    "for i in range(len(lrs)):\n",
    "    print('Learning rate: {}'.format(lrs[i]))\n",
    "    print(lr_metrics[i])\n",
    "    print()"
   ]
  },
  {
   "cell_type": "markdown",
   "id": "05697071",
   "metadata": {},
   "source": [
    "The best learning rate is $0.0001$."
   ]
  },
  {
   "cell_type": "markdown",
   "id": "11f46f4e",
   "metadata": {},
   "source": [
    "### 4."
   ]
  },
  {
   "cell_type": "code",
   "execution_count": 9,
   "id": "4649deb1",
   "metadata": {},
   "outputs": [
    {
     "data": {
      "image/png": "[encoded data removed]",
      "text/plain": [
       "<Figure size 504x360 with 1 Axes>"
      ]
     },
     "metadata": {
      "needs_background": "light"
     },
     "output_type": "display_data"
    }
   ],
   "source": [
    "ks = [1, 3, 5, 7, 10]\n",
    "average_accus = []\n",
    "for k in ks:\n",
    "    knn = KNeighborsClassifier(n_neighbors = k)\n",
    "    accus = []\n",
    "    for i in range(5):\n",
    "        train_index = list(range(i * 1000)) + list(range(i * 1000 + 1000, 5000))\n",
    "        test_index = list(range(i * 1000, i * 1000 + 1000))\n",
    "        train_X, train_y = df_email.iloc[train_index, :-1], df_email.iloc[train_index, -1]\n",
    "        test_X, test_y = df_email.iloc[test_index, :-1], df_email.iloc[test_index, -1]\n",
    "        knn.fit(train_X, train_y)\n",
    "        predictions = knn.predict(test_X)\n",
    "        accuracy = accuracy_score(test_y, predictions)\n",
    "        accus.append(accuracy)\n",
    "    average_accus.append(np.mean(accus))\n",
    "\n",
    "plt.figure(figsize = (7,5))\n",
    "plt.grid()\n",
    "plt.plot(ks, average_accus)\n",
    "plt.xlabel('k')\n",
    "plt.ylabel('Average accuracy')\n",
    "plt.title('kNN 5-fold Cross validation')\n",
    "plt.show()"
   ]
  },
  {
   "cell_type": "markdown",
   "id": "ead46b47",
   "metadata": {},
   "source": [
    "### 5."
   ]
  },
  {
   "cell_type": "code",
   "execution_count": 11,
   "id": "3d98149a",
   "metadata": {},
   "outputs": [
    {
     "data": {
      "text/plain": [
       "<matplotlib.legend.Legend at 0x14ffa11f0>"
      ]
     },
     "execution_count": 11,
     "metadata": {},
     "output_type": "execute_result"
    },
    {
     "data": {
      "image/png": "[encoded data removed]",
      "text/plain": [
       "<Figure size 504x360 with 1 Axes>"
      ]
     },
     "metadata": {
      "needs_background": "light"
     },
     "output_type": "display_data"
    }
   ],
   "source": [
    "i = 0\n",
    "train_index = list(range(i * 1000)) + list(range(i * 1000 + 1000, 5000))\n",
    "test_index = list(range(i * 1000, i * 1000 + 1000))\n",
    "train_X, train_y = df_email.iloc[train_index, :-1], df_email.iloc[train_index, -1]\n",
    "test_X, test_y = df_email.iloc[test_index, :-1], df_email.iloc[test_index, -1]\n",
    "\n",
    "knn = KNeighborsClassifier(n_neighbors = 5)\n",
    "knn.fit(train_X, train_y)\n",
    "knn_probs = knn.predict_proba(test_X)[:, 1]\n",
    "knn_fpr, knn_tpr, knn_thresholds = roc_curve(test_y, knn_probs, pos_label=1)\n",
    "knn_auc_value = auc(knn_fpr, knn_tpr)\n",
    "plt.figure(figsize = (7, 5))\n",
    "plt.plot(knn_fpr, knn_tpr)\n",
    "\n",
    "\n",
    "beta = logistc_regression(train_X, train_y, lr = 0.0001)\n",
    "_, logit_probs = logit_predict(test_X, beta)\n",
    "logit_fpr, logit_tpr, knn_thresholds = roc_curve(test_y, logit_probs, pos_label=1)\n",
    "logit_auc_value = auc(logit_fpr, logit_tpr)\n",
    "plt.plot(logit_fpr, logit_tpr)\n",
    "\n",
    "plt.xlabel('False Positive Rate')\n",
    "plt.ylabel('True Positive Rate')\n",
    "plt.title('ROC curve')\n",
    "plt.grid()\n",
    "plt.legend(['KNeighborsClassifier (AUC = {:.2f})'.format(knn_auc_value),  \\\n",
    "            'LogisticRegression (AUC = {:.2f})'.format(logit_auc_value),])"
   ]
  },
  {
   "cell_type": "code",
   "execution_count": null,
   "id": "dc31f379",
   "metadata": {},
   "outputs": [],
   "source": []
  }
 ],
 "metadata": {
  "kernelspec": {
   "display_name": "Python 3 (ipykernel)",
   "language": "python",
   "name": "python3"
  },
  "language_info": {
   "codemirror_mode": {
    "name": "ipython",
    "version": 3
   },
   "file_extension": ".py",
   "mimetype": "text/x-python",
   "name": "python",
   "nbconvert_exporter": "python",
   "pygments_lexer": "ipython3",
   "version": "3.9.13"
  }
 },
 "nbformat": 4,
 "nbformat_minor": 5
}
